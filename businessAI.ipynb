{
 "cells": [
  {
   "cell_type": "markdown",
   "metadata": {
    "slideshow": {
     "slide_type": "slide"
    }
   },
   "source": [
    "<center><h1> AI for business</h1>\n",
    "<center><img src=\"images/NN.png\" alt=\"Deep Learning\" width=\"30%\"></center>\n",
    "<br>\n",
    "<h3>Marco A. Gutierrez</h3>\n",
    "<center><img src=\"images/fa_academy_r.png\" alt=\"FOSSASIA_Academy\" width=\"15%\"></center>"
   ]
  },
  {
   "cell_type": "markdown",
   "metadata": {
    "slideshow": {
     "slide_type": "slide"
    }
   },
   "source": [
    "<h1><center>AI is the new electricity</center></h1>"
   ]
  },
  {
   "cell_type": "markdown",
   "metadata": {
    "slideshow": {
     "slide_type": "slide"
    }
   },
   "source": [
    "<h1><center>99% of the economic value</center></h1> \n",
    "<h1><center>comes from one type of AI</center></h1>"
   ]
  },
  {
   "cell_type": "markdown",
   "metadata": {
    "slideshow": {
     "slide_type": "subslide"
    }
   },
   "source": [
    "<h1><center>A &rarr; B</center></h1>\n",
    "<h1><center>I/O</center></h1>"
   ]
  },
  {
   "cell_type": "markdown",
   "metadata": {
    "slideshow": {
     "slide_type": "subslide"
    }
   },
   "source": [
    "<h1><center>Picture &rarr; You</center></h1>"
   ]
  },
  {
   "cell_type": "markdown",
   "metadata": {
    "slideshow": {
     "slide_type": "subslide"
    }
   },
   "source": [
    "<h1><center>Loan &rarr; Is this guy gonna pay?</center></h1>"
   ]
  },
  {
   "cell_type": "markdown",
   "metadata": {
    "slideshow": {
     "slide_type": "subslide"
    }
   },
   "source": [
    "<h1><center>AD + User Info &rarr; Will you click?</center></h1>"
   ]
  },
  {
   "cell_type": "markdown",
   "metadata": {
    "slideshow": {
     "slide_type": "subslide"
    }
   },
   "source": [
    "<h1><center>Audio &rarr; Text transcript</center></h1>"
   ]
  },
  {
   "cell_type": "markdown",
   "metadata": {
    "slideshow": {
     "slide_type": "subslide"
    }
   },
   "source": [
    "<h1><center>English &rarr; ไทย</center></h1>"
   ]
  },
  {
   "cell_type": "markdown",
   "metadata": {
    "slideshow": {
     "slide_type": "subslide"
    }
   },
   "source": [
    "<h1><center>Image, Radar &rarr; Car position</center></h1>"
   ]
  },
  {
   "cell_type": "markdown",
   "metadata": {
    "slideshow": {
     "slide_type": "slide"
    }
   },
   "source": [
    "<center><img src=\"images/supervised_learning.png\" alt=\"Supervised Learning\">\n",
    "<small>source: <a href=\"http://bigdata-madesimple.com\">http://bigdata-madesimple.com</a></small></center>"
   ]
  },
  {
   "cell_type": "markdown",
   "metadata": {
    "slideshow": {
     "slide_type": "slide"
    }
   },
   "source": [
    "<h1><center>What can I do?</center></h1>\n",
    "<center><img src=\"images/thinking.png\" alt=\"Thinking\"></center>"
   ]
  },
  {
   "cell_type": "markdown",
   "metadata": {
    "slideshow": {
     "slide_type": "subslide"
    }
   },
   "source": [
    "<h1><center>Anything a typical person can do in less than a second of thinking can probably be automated with AI</center></h1>"
   ]
  },
  {
   "cell_type": "markdown",
   "metadata": {
    "slideshow": {
     "slide_type": "slide"
    }
   },
   "source": [
    "<h1><center>But... Why?</center></h1>\n",
    "<center><img src=\"images/wtf.jpg\" alt=\"wtf\"></center>"
   ]
  },
  {
   "cell_type": "markdown",
   "metadata": {
    "slideshow": {
     "slide_type": "subslide"
    }
   },
   "source": [
    "<center><img src=\"images/dnn_progress.png\" width=\"70%\" alt=\"DNN\">\n",
    "<small>source: <a href=\"https://towardsdatascience.com/deep-learning-specialization-by-andrew-ng-21-lessons-learned-15ffaaef627c\">https://towardsdatascience.com </a></small></center>"
   ]
  },
  {
   "cell_type": "markdown",
   "metadata": {
    "slideshow": {
     "slide_type": "subslide"
    }
   },
   "source": [
    "## &nbsp; &nbsp; &nbsp; &nbsp; - Supervised Learning (A &rarr; B)\n",
    "## &nbsp; &nbsp; &nbsp; &nbsp; - Transfer Learning\n",
    "## &nbsp; &nbsp; &nbsp; &nbsp; - Unsupervised Learning\n",
    "## &nbsp; &nbsp; &nbsp; &nbsp; - Reinforcement Learning"
   ]
  },
  {
   "cell_type": "markdown",
   "metadata": {
    "slideshow": {
     "slide_type": "subslide"
    }
   },
   "source": [
    "<h1><center>Data &nbsp; &#62; &#62; &#62; &nbsp; Algorithms</center></h1>"
   ]
  },
  {
   "cell_type": "markdown",
   "metadata": {
    "slideshow": {
     "slide_type": "subslide"
    }
   },
   "source": [
    "<center><img src=\"images/aicircle.png\" alt=\"ai circle\"></center>"
   ]
  },
  {
   "cell_type": "markdown",
   "metadata": {
    "slideshow": {
     "slide_type": "slide"
    }
   },
   "source": [
    "<center><h1>Internet Era:<br><br><br>\n",
    "    Shopping mall + website &#8800; Internet company </h1> </center>"
   ]
  },
  {
   "cell_type": "markdown",
   "metadata": {
    "slideshow": {
     "slide_type": "subslide"
    }
   },
   "source": [
    "## &nbsp; &nbsp; &nbsp; &nbsp; - A/B Testing\n",
    "## &nbsp; &nbsp; &nbsp; &nbsp; - Short cycle time\n",
    "## &nbsp; &nbsp; &nbsp; &nbsp; - Decision making from CEO to Eng/PMs"
   ]
  },
  {
   "cell_type": "markdown",
   "metadata": {
    "slideshow": {
     "slide_type": "slide"
    }
   },
   "source": [
    "<center><h1>AI Era:<br><br><br>\n",
    "    Traditional Tech company + NN &#8800; AI company </h1> </center>"
   ]
  },
  {
   "cell_type": "markdown",
   "metadata": {
    "slideshow": {
     "slide_type": "subslide"
    }
   },
   "source": [
    "## &nbsp; &nbsp; &nbsp; &nbsp; - Strategic data acquisition\n",
    "## &nbsp; &nbsp; &nbsp; &nbsp; - Unified data warehouses\n",
    "## &nbsp; &nbsp; &nbsp; &nbsp; - Pervasive automation opportunities\n",
    "## &nbsp; &nbsp; &nbsp; &nbsp; - New task descriptions (PMs)"
   ]
  },
  {
   "cell_type": "markdown",
   "metadata": {
    "slideshow": {
     "slide_type": "subslide"
    }
   },
   "source": [
    "<center><img src=\"images/ai_bui.png\" width=\"60%\" alt=\"ai business units\">\n",
    "    <small>source: <a href=\"https://d6hi0znd7umn4.cloudfront.net/content/uploads/2018/12/AI-Transformation-Playbook.pdf\" class=\"dc by ik il im in\" target=\"_blank\" rel=\"noopener nofollow\">AI Transformation Playbook</a></small></center>"
   ]
  },
  {
   "cell_type": "code",
   "execution_count": null,
   "metadata": {
    "slideshow": {
     "slide_type": "slide"
    }
   },
   "outputs": [],
   "source": [
    "import keras\n",
    "from numpy import array\n",
    "\n",
    "(X_train, y_train), (X_test, y_test) = keras.datasets.imdb.load_data(num_words=5000)\n",
    "word_to_id = keras.datasets.imdb.get_word_index()\n",
    "word_to_id = {k:(v+3) for k,v in word_to_id.items()}\n",
    "X_train = keras.preprocessing.sequence.pad_sequences(X_train, maxlen=500) \n",
    "X_test = keras.preprocessing.sequence.pad_sequences(X_test, maxlen=500) \n",
    "model = keras.models.Sequential() \n",
    "model.add(keras.layers.Embedding(5000, 32, input_length=500)) \n",
    "model.add(keras.layers.Flatten()) \n",
    "model.add(keras.layers.Dense(1, activation='sigmoid')) \n",
    "model.compile(loss='binary_crossentropy',optimizer='adam', metrics=['accuracy']) \n",
    "model.fit(X_train, y_train, validation_data=(X_test, y_test), epochs=3, batch_size=64)"
   ]
  },
  {
   "cell_type": "code",
   "execution_count": null,
   "metadata": {
    "slideshow": {
     "slide_type": "subslide"
    }
   },
   "outputs": [],
   "source": [
    "scores = model.evaluate(X_test, y_test, verbose=0) \n",
    "print(\"Accuracy: %.2f%%\" % (scores[1]*100))"
   ]
  },
  {
   "cell_type": "code",
   "execution_count": null,
   "metadata": {
    "slideshow": {
     "slide_type": "subslide"
    }
   },
   "outputs": [],
   "source": [
    "sentence = input()\n",
    "tmp = []\n",
    "for word in sentence.split(\" \"):\n",
    "    tmp.append(word_to_id[word])\n",
    "tmp_padded = keras.preprocessing.sequence.pad_sequences([tmp], maxlen=500) \n",
    "prediction = model.predict(array([tmp_padded][0]))[0][0] \n",
    "print('Sentiment: %s %s' % (prediction, u\"\\U0001F44D\" if prediction > 0.5 else u\"\\U0001F44E\"))"
   ]
  },
  {
   "cell_type": "markdown",
   "metadata": {
    "slideshow": {
     "slide_type": "slide"
    }
   },
   "source": [
    "<h1><center>Learn the ways of AI you must...</center></h1>\n",
    "\n",
    "<center><img src=\"images/yoda.png\" alt=\"yoda\"></center>"
   ]
  },
  {
   "cell_type": "markdown",
   "metadata": {
    "slideshow": {
     "slide_type": "subslide"
    }
   },
   "source": [
    "<h1><center>Free A &rarr; B AI Workshop!</center></h1>\n",
    "<br>\n",
    "<center><img src=\"images/omg.gif\" alt=\"OMG!\"></center>"
   ]
  },
  {
   "cell_type": "markdown",
   "metadata": {
    "slideshow": {
     "slide_type": "slide"
    }
   },
   "source": [
    "<center><h1> Thanks! </h1>\n",
    "<h4> Marco A. Gutiérrez </h4>\n",
    "<h4> marcogg@marcogg.com </h4>\n",
    "<h4> academy@fossasia.com </h4>\n",
    "<br>\n",
    "<center><img src=\"images/fa_academy_r.png\" alt=\"FOSSASIA_Academy\" width=\"15%\"></center>"
   ]
  }
 ],
 "metadata": {
  "celltoolbar": "Slideshow",
  "kernelspec": {
   "display_name": "Python 3",
   "language": "python",
   "name": "python3"
  },
  "language_info": {
   "codemirror_mode": {
    "name": "ipython",
    "version": 3
   },
   "file_extension": ".py",
   "mimetype": "text/x-python",
   "name": "python",
   "nbconvert_exporter": "python",
   "pygments_lexer": "ipython3",
   "version": "3.6.8"
  },
  "livereveal": {
   "autolaunch": true
  },
  "rise": {
   "theme": "sky"
  },
  "toc": {
   "base_numbering": 1,
   "nav_menu": {},
   "number_sections": false,
   "sideBar": true,
   "skip_h1_title": false,
   "title_cell": "Table of Contents",
   "title_sidebar": "Contents",
   "toc_cell": false,
   "toc_position": {
    "height": "calc(100% - 180px)",
    "left": "10px",
    "top": "150px",
    "width": "400px"
   },
   "toc_section_display": true,
   "toc_window_display": false
  }
 },
 "nbformat": 4,
 "nbformat_minor": 2
}
